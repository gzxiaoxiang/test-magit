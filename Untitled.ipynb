{
 "cells": [
  {
   "cell_type": "code",
   "execution_count": 2,
   "metadata": {
    "autoscroll": false,
    "collapsed": false,
    "ein.tags": "worksheet-0",
    "slideshow": {
     "slide_type": "-"
    }
   },
   "outputs": [],
   "source": [
    "import pandas as pd"
   ]
  },
  {
   "cell_type": "code",
   "execution_count": 1,
   "metadata": {
    "autoscroll": false,
    "collapsed": false,
    "ein.tags": "worksheet-0",
    "slideshow": {
     "slide_type": "-"
    }
   },
   "outputs": [
    {
     "name": "stdout",
     "output_type": "stream",
     "text": [
      "test\n"
     ]
    }
   ],
   "source": [
    "print ('test')"
   ]
  },
  {
   "cell_type": "code",
   "execution_count": 3,
   "metadata": {
    "autoscroll": false,
    "collapsed": false,
    "ein.tags": "worksheet-1",
    "slideshow": {
     "slide_type": "-"
    }
   },
   "outputs": [],
   "source": [
    "%load test-ip.py\n",
    "\n"
   ]
  },
  {
   "cell_type": "code",
   "execution_count": 1,
   "metadata": {
    "autoscroll": false,
    "collapsed": false,
    "ein.tags": "worksheet-1",
    "slideshow": {
     "slide_type": "-"
    }
   },
   "outputs": [
    {
     "ename": "NameError",
     "evalue": "name 'handle' is not defined",
     "output_type": "error",
     "traceback": [
      "\u001b[1;31m---------------------------------------------------------------------------\u001b[0m",
      "\u001b[1;31mNameError\u001b[0m                                 Traceback (most recent call last)",
      "\u001b[1;32m<ipython-input-1-505a046fd3a3>\u001b[0m in \u001b[0;36m<module>\u001b[1;34m()\u001b[0m\n\u001b[0;32m    114\u001b[0m             \u001b[0mtext\u001b[0m\u001b[1;33m=\u001b[0m\u001b[0mtext\u001b[0m\u001b[1;33m+\u001b[0m\u001b[1;34m'|'\u001b[0m\u001b[1;33m+\u001b[0m\u001b[0ma\u001b[0m\u001b[1;33m[\u001b[0m\u001b[1;36m1\u001b[0m\u001b[1;33m]\u001b[0m\u001b[1;33m\u001b[0m\u001b[0m\n\u001b[0;32m    115\u001b[0m \u001b[1;33m\u001b[0m\u001b[0m\n\u001b[1;32m--> 116\u001b[1;33m \u001b[0mhandle\u001b[0m\u001b[1;33m.\u001b[0m\u001b[0mwrite\u001b[0m\u001b[1;33m(\u001b[0m\u001b[0mtext\u001b[0m\u001b[1;33m)\u001b[0m\u001b[1;33m\u001b[0m\u001b[0m\n\u001b[0m\u001b[0;32m    117\u001b[0m \u001b[0mhandle\u001b[0m\u001b[1;33m.\u001b[0m\u001b[0mclose\u001b[0m\u001b[1;33m(\u001b[0m\u001b[1;33m)\u001b[0m\u001b[1;33m\u001b[0m\u001b[0m\n\u001b[0;32m    118\u001b[0m \u001b[0mos\u001b[0m\u001b[1;33m.\u001b[0m\u001b[0mpopen\u001b[0m\u001b[1;33m(\u001b[0m\u001b[1;34m'output.txt'\u001b[0m\u001b[1;33m)\u001b[0m\u001b[1;33m\u001b[0m\u001b[0m\n",
      "\u001b[1;31mNameError\u001b[0m: name 'handle' is not defined"
     ]
    }
   ],
   "source": [
    "# %load test-ip.py\n",
    "#!/usr/bin/python\n",
    "\n",
    "import urllib2\n",
    "import socket\n",
    "import time\n",
    "import re\n",
    "import sys\n",
    "import os\n",
    "\n",
    "def get_connect_time(ipaddress, port):   \n",
    "    try:\n",
    "        socket.setdefaulttimeout(1)\n",
    "        s=socket.socket()\n",
    "        start=time.time()\n",
    "        s.connect((ipaddress, port))\n",
    "        end=time.time()\n",
    "        s.close()\n",
    "    except:\n",
    "        print 'Connect %s timeout' %(ipaddress)\n",
    "        end='error'\n",
    "        s.close()\n",
    "        return '3000'\n",
    "    \n",
    "    try:\n",
    "        socket.setdefaulttimeout(1)\n",
    "        s=socket.socket()\n",
    "        start=time.time()\n",
    "        s.connect((ipaddress, port))\n",
    "        end=time.time()\n",
    "        s.close()\n",
    "    except:\n",
    "        print 'Connect %s timeout' %(ipaddress)\n",
    "        end='error'\n",
    "        s.close()\n",
    "        return '3000'\n",
    "        \n",
    "    if end!='error':\n",
    "\tconnect_time=end-start\n",
    "\tprint 'found ip %s 连接时间:%s ms' %(ipaddress,str(int(connect_time*1000)))\n",
    "       # print connect_time\n",
    "\tconnect_time=int(connect_time*1000)\n",
    "\treturn connect_time\n",
    "    else:\n",
    "        return '3000'\n",
    "def get_host_file(html):                     \n",
    "    #print html\n",
    "    text=r'\\d+\\.\\d+\\.\\d+\\.\\d+'\n",
    "    ip=re.findall(text, html)\n",
    "    #print ip\n",
    "    iplist=[]\n",
    "    for a in ip:\n",
    "        if a in iplist:\n",
    "            pass\n",
    "        else:\n",
    "            iplist.append(a)\n",
    "    \n",
    "    if '127.0.0.1' in iplist:\n",
    "        iplist.remove('127.0.0.1')\n",
    "        return iplist\n",
    "    \n",
    "    return iplist\n",
    "def banner():\n",
    "    print '参数错误'\n",
    "    print '---------------------------------------------------------------------------------'\n",
    "    print '---  本程序支持从文件导入ip，也支持从网页正则提取ip                                 ---'\n",
    "    print '---  用法：                                                                    ---'\n",
    "    print '---  python google.py https://laod.cn/tools/goagent.html                       ---'\n",
    "    print '---  python google.py ip.txt                                                  ---'          \n",
    "    print '---------------------------------------------------------------------------------'\n",
    "def main():\n",
    "    argv=sys.argv\n",
    "    #print len(argv)\n",
    "    if len(argv)<3:\n",
    "        banner()\n",
    "        sys.exit(0)\n",
    "    if '-f' not in argv and '-u' not in argv:\n",
    "        banner()\n",
    "    else:\n",
    "        urladdress=''\n",
    "        filename=''\n",
    "        if '-u' in argv:\n",
    "            urladdress=argv[argv.index('-u')+1]\n",
    "        if '-f' in argv:\n",
    "            filename=argv[argv.index('-f')+1]\n",
    "        \n",
    "        if urladdress=='':\n",
    "            handle=open(filename)\n",
    "            html=handle.read()\n",
    "        \n",
    "        else:\n",
    "            html=urllib2.urlopen(urladdress)\n",
    "            html=html.read()\n",
    "        \n",
    "        ip=get_host_file(html)\n",
    "        print 'found %s ip' %(str(len(ip)))\n",
    "        print 'starting connect...'\n",
    "        print '------------------------------'\n",
    "        usefulip=[]\n",
    "        for a in ip:\n",
    "            connect_time=get_connect_time(a, 443)\n",
    "            #print connect_time\n",
    "            if connect_time<=2000:\n",
    "                usefulip.append([connect_time, a])\n",
    "        ip=[]\n",
    "        for a in range(0, len(usefulip)):\n",
    "            min_time_ip=min(usefulip)\n",
    "            ip.append(min_time_ip)\n",
    "            usefulip.remove(min_time_ip)\n",
    "        print ip\n",
    "        handle=open('output.txt', 'w')\n",
    "        text=''\n",
    "        for a in ip:\n",
    "            text=text+'|'+a[1]\n",
    "        \n",
    "handle.write(text)\n",
    "handle.close()\n",
    "os.popen('output.txt')\n",
    "if __name__ == '__main__':\n",
    "    main()"
   ]
  }
 ],
 "metadata": {
  "kernelspec": {
   "display_name": "Python 2",
   "name": "python2"
  },
  "language_info": {
   "codemirror_mode": {
    "name": "ipython",
    "version": 3
   },
   "file_extension": ".py",
   "mimetype": "text/x-python",
   "name": "python",
   "nbconvert_exporter": "python",
   "pygments_lexer": "ipython3",
   "version": "3.6.2"
  },
  "name": "Untitled.ipynb",
  "toc": {
   "nav_menu": null,
   "number_sections": true,
   "sideBar": true,
   "skip_h1_title": false,
   "toc_cell": false,
   "toc_position": null,
   "toc_section_display": "block",
   "toc_window_display": true
  }
 },
 "nbformat": 4,
 "nbformat_minor": 2
}
