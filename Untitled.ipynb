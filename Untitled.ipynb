{
 "cells": [
  {
   "cell_type": "code",
   "execution_count": 9,
   "metadata": {
    "autoscroll": false,
    "collapsed": false,
    "ein.tags": "worksheet-0",
    "slideshow": {
     "slide_type": "-"
    }
   },
   "outputs": [],
   "source": [
    "import pandas as pd"
   ]
  },
  {
   "cell_type": "code",
   "execution_count": 10,
   "metadata": {
    "autoscroll": false,
    "collapsed": false,
    "ein.tags": "worksheet-0",
    "slideshow": {
     "slide_type": "-"
    }
   },
   "outputs": [
    {
     "name": "stdout",
     "output_type": "stream",
     "text": [
      "test\n"
     ]
    }
   ],
   "source": [
    "print ('test')"
   ]
  },
  {
   "cell_type": "code",
   "execution_count": 11,
   "metadata": {
    "autoscroll": false,
    "collapsed": false,
    "ein.tags": "worksheet-0",
    "slideshow": {
     "slide_type": "-"
    }
   },
   "outputs": [],
   "source": [
    "%load test-ip.py\n",
    "\n"
   ]
  },
  {
   "cell_type": "code",
   "execution_count": null,
   "metadata": {
    "autoscroll": false,
    "collapsed": false,
    "ein.tags": "worksheet-0",
    "slideshow": {
     "slide_type": "-"
    }
   },
   "outputs": [],
   "source": [
    "# %load test-ip.py\n",
    "#!/usr/bin/python\n",
    "\n",
    "import urllib2\n",
    "import socket\n",
    "import time\n",
    "import re\n",
    "import sys\n",
    "import os\n",
    "time.time()\n",
    "print \"hello\"\n",
    "print \"test now new test\"\n",
    "print \"test in home now\"\n",
    "def get_connect_time(ipaddress, port):   \n",
    "    try:\n",
    "        socket.setdefaulttimeout(1)\n",
    "        s=socket.socket()\n",
    "        start=time.time()\n",
    "        s.connect((ipaddress, port))\n",
    "        end=time.time()\n",
    "        s.close()\n",
    "    except:\n",
    "        print 'Connect %s timeout' %(ipaddress)\n",
    "        end='error'\n",
    "        s.close()\n",
    "        return '3000'\n",
    "    \n",
    "    try:\n",
    "        socket.setdefaulttimeout(1)\n",
    "        s=socket.socket()\n",
    "        start=time.time()\n",
    "        s.connect((ipaddress, port))\n",
    "        end=time.time()\n",
    "        s.close()\n",
    "    except:\n",
    "        print 'Connect %s timeout' %(ipaddress)\n",
    "        end='error'\n",
    "        s.close()\n",
    "        return '3000'\n",
    "        \n",
    "    if end!='error':\n",
    "\tconnect_time=end-start\n",
    "\tprint 'found ip %s 连接时间:%s ms' %(ipaddress,str(int(connect_time*1000)))\n",
    "       # print connect_time\n",
    "\tconnect_time=int(connect_time*1000)\n",
    "\treturn connect_time\n",
    "    else:\n",
    "        return '3000'\n",
    "def get_host_file(html):                     \n",
    "    #print html\n",
    "    text=r'\\d+\\.\\d+\\.\\d+\\.\\d+'\n",
    "    ip=re.findall(text, html)\n",
    "    #print ip\n",
    "    iplist=[]\n",
    "    for a in ip:\n",
    "        if a in iplist:\n",
    "            pass\n",
    "        else:\n",
    "            iplist.append(a)\n",
    "    \n",
    "    if '127.0.0.1' in iplist:\n",
    "        iplist.remove('127.0.0.1')\n",
    "        return iplist\n",
    "    \n",
    "    return iplist\n",
    "def banner():\n",
    "    print '参数错误'\n",
    "    print '---------------------------------------------------------------------------------'\n",
    "    print '---  本程序支持从文件导入ip，也支持从网页正则提取ip                                 ---'\n",
    "    print '---  用法：                                                                    ---'\n",
    "    print '---  python google.py https://laod.cn/tools/goagent.html                       ---'\n",
    "    print '---  python google.py ip.txt                                                  ---'          \n",
    "    print '---------------------------------------------------------------------------------'\n",
    "def main():\n",
    "    argv=sys.argv\n",
    "    #print len(argv)\n",
    "    if len(argv)<3:\n",
    "        banner()\n",
    "        sys.exit(0)\n",
    "    if '-f' not in argv and '-u' not in argv:\n",
    "        banner()\n",
    "    else:\n",
    "        urladdress=''\n",
    "        filename=''\n",
    "        if '-u' in argv:\n",
    "            urladdress=argv[argv.index('-u')+1]\n",
    "        if '-f' in argv:\n",
    "            filename=argv[argv.index('-f')+1]\n",
    "        \n",
    "        if urladdress=='':\n",
    "            handle=open(filename)\n",
    "            html=handle.read()\n",
    "        \n",
    "        else:\n",
    "            html=urllib2.urlopen(urladdress)\n",
    "            html=html.read()\n",
    "        \n",
    "        ip=get_host_file(html)\n",
    "        print 'found %s ip' %(str(len(ip)))\n",
    "        print 'starting connect...'\n",
    "        print '------------------------------'\n",
    "        usefulip=[]\n",
    "        for a in ip:\n",
    "            connect_time=get_connect_time(a, 443)\n",
    "            #print connect_time\n",
    "            if connect_time<=2000:\n",
    "                usefulip.append([connect_time, a])\n",
    "        ip=[]\n",
    "        for a in range(0, len(usefulip)):\n",
    "            min_time_ip=min(usefulip)\n",
    "            ip.append(min_time_ip)\n",
    "            usefulip.remove(min_time_ip)\n",
    "        print ip\n",
    "        handle=open('output.txt', 'w')\n",
    "        text=''\n",
    "        for a in ip:\n",
    "            text=text+'|'+a[1]\n",
    "        \n",
    "handle.write(text)\n",
    "handle.close()\n",
    "os.popen('output.txt')\n",
    "if __name__ == '__main__':\n",
    "    main()\n"
   ]
  },
  {
   "cell_type": "code",
   "execution_count": 13,
   "metadata": {
    "autoscroll": false,
    "collapsed": false,
    "ein.tags": "worksheet-0",
    "slideshow": {
     "slide_type": "-"
    }
   },
   "outputs": [
    {
     "data": {
      "text/plain": [
       "{'asses',\n 'deeps',\n 'devil',\n 'diaper',\n 'drawer',\n 'keels',\n 'knits',\n 'leets',\n 'leper',\n 'level',\n 'lived',\n 'madam',\n 'minim',\n 'redder',\n 'refer',\n 'repaid',\n 'repel',\n 'rever',\n 'reward',\n 'sessa',\n 'sleek',\n 'speed',\n 'spots',\n 'steel',\n 'stink',\n 'stops'}"
      ]
     },
     "execution_count": 13,
     "metadata": {},
     "output_type": "execute_result"
    }
   ],
   "source": [
    "from urllib.request import urlopen\n",
    "shakespeare=urlopen('http://inst.eecs.berkeley.edu/~cs61a/fa11/shakespeare.txt')\n",
    "words=set(shakespeare.read().decode().split())\n",
    "{w for w in words if len(w) >= 5 and w[::-1] in words}\n"
   ]
  },
  {
   "cell_type": "code",
   "execution_count": 15,
   "metadata": {
    "autoscroll": false,
    "collapsed": false,
    "ein.tags": "worksheet-0",
    "slideshow": {
     "slide_type": "-"
    }
   },
   "outputs": [
    {
     "ename": "SyntaxError",
     "evalue": "invalid syntax (<ipython-input-15-63dd8cebfefc>, line 3)",
     "output_type": "error",
     "traceback": [
      "\u001b[1;36m  File \u001b[1;32m\"<ipython-input-15-63dd8cebfefc>\"\u001b[1;36m, line \u001b[1;32m3\u001b[0m\n\u001b[1;33m    (define (make-monitored f)\u001b[0m\n\u001b[1;37m                            ^\u001b[0m\n\u001b[1;31mSyntaxError\u001b[0m\u001b[1;31m:\u001b[0m invalid syntax\n"
     ]
    }
   ],
   "source": [
    ";;; 2-make-monitored.scm\n",
    "\n",
    "(define (make-monitored f)\n",
    "    (let ((count-call 0))\n",
    "        (lambda (input)\n",
    "            (cond ((eq? input 'how-many-calls?)\n",
    "                   count-call)\n",
    "                  ((eq? input 'reset-count)\n",
    "                   (begin (set! count-call 0)\n",
    "                          count-call))\n",
    "                  (else (begin (set! count-call (+ 1 count-call))\n",
    "                               (f input)))))))\n",
    "\n",
    "(define s (make-monitored sqrt))\n",
    "\n",
    ";other solution\n",
    "(define (make-monitored f)\n",
    "  (let ((times 0))\n",
    "    (lambda (m) \n",
    "      (cond ((eq? m 'how-many-calls?) times)\n",
    "            ((eq? m 'reset-acount) (set! times 0))\n",
    "            (else (begin (set! times (+ 1 times)) \n",
    "                        (f m)))))))\n",
    "\n",
    "(define s (make-monitored sqrt))\n",
    "(s 100)\n",
    "(s 'how-many-calls?)\n",
    "(s 'how-many-calls?)\n"
   ]
  }
 ],
 "metadata": {
  "kernelspec": {
   "display_name": "tensorflow",
   "name": "tensorflow"
  },
  "language_info": {
   "codemirror_mode": {
    "name": "ipython",
    "version": 3
   },
   "file_extension": ".py",
   "mimetype": "text/x-python",
   "name": "python",
   "nbconvert_exporter": "python",
   "pygments_lexer": "ipython3",
   "version": "3.6.2"
  },
  "name": "Untitled.ipynb",
  "toc": {
   "nav_menu": null,
   "number_sections": true,
   "sideBar": true,
   "skip_h1_title": false,
   "toc_cell": false,
   "toc_position": null,
   "toc_section_display": "block",
   "toc_window_display": true
  }
 },
 "nbformat": 4,
 "nbformat_minor": 2
}
