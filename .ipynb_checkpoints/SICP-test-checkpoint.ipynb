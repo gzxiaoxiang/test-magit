{
 "cells": [
  {
   "cell_type": "code",
   "execution_count": 1,
   "metadata": {
    "autoscroll": false,
    "collapsed": false,
    "ein.tags": "worksheet-0",
    "slideshow": {
     "slide_type": "-"
    }
   },
   "outputs": [],
   "source": [
    "import pandas as pd\n"
   ]
  },
  {
   "cell_type": "code",
   "execution_count": 1,
   "metadata": {
    "autoscroll": false,
    "collapsed": false,
    "ein.tags": "worksheet-0",
    "slideshow": {
     "slide_type": "-"
    }
   },
   "outputs": [
    {
     "name": "stdout",
     "output_type": "stream",
     "text": [
      "test3\n"
     ]
    }
   ],
   "source": [
    "print ('test3')"
   ]
  },
  {
   "cell_type": "code",
   "execution_count": 1,
   "metadata": {
    "autoscroll": false,
    "collapsed": false,
    "ein.tags": "worksheet-0",
    "slideshow": {
     "slide_type": "-"
    }
   },
   "outputs": [],
   "source": [
    "import tensorflow as tf"
   ]
  },
  {
   "cell_type": "code",
   "execution_count": 2,
   "metadata": {
    "autoscroll": false,
    "collapsed": false,
    "ein.tags": "worksheet-0",
    "slideshow": {
     "slide_type": "-"
    }
   },
   "outputs": [],
   "source": [
    "\n"
   ]
  },
  {
   "cell_type": "code",
   "execution_count": 13,
   "metadata": {
    "autoscroll": false,
    "collapsed": false,
    "ein.tags": "worksheet-0",
    "slideshow": {
     "slide_type": "-"
    }
   },
   "outputs": [
    {
     "data": {
      "text/plain": [
       "{'asses',\n",
       " 'deeps',\n",
       " 'devil',\n",
       " 'diaper',\n",
       " 'drawer',\n",
       " 'keels',\n",
       " 'knits',\n",
       " 'leets',\n",
       " 'leper',\n",
       " 'level',\n",
       " 'lived',\n",
       " 'madam',\n",
       " 'minim',\n",
       " 'redder',\n",
       " 'refer',\n",
       " 'repaid',\n",
       " 'repel',\n",
       " 'rever',\n",
       " 'reward',\n",
       " 'sessa',\n",
       " 'sleek',\n",
       " 'speed',\n",
       " 'spots',\n",
       " 'steel',\n",
       " 'stink',\n",
       " 'stops'}"
      ]
     },
     "execution_count": 13,
     "metadata": {},
     "output_type": "execute_result"
    }
   ],
   "source": [
    "from urllib.request import urlopen\n",
    "shakespeare=urlopen('http://inst.eecs.berkeley.edu/~cs61a/fa11/shakespeare.txt')\n",
    "words=set(shakespeare.read().decode().split())\n",
    "{w for w in words if len(w) >= 5 and w[::-1] in words}\n"
   ]
  },
  {
   "cell_type": "code",
   "execution_count": null,
   "metadata": {
    "autoscroll": false,
    "collapsed": false,
    "ein.tags": "worksheet-0",
    "slideshow": {
     "slide_type": "-"
    }
   },
   "outputs": [],
   "source": [
    ";;; 2-make-monitored.scm\n",
    "; ex3.1\n",
    "(define (make-monitored f)\n",
    "    (let ((count-call 0))\n",
    "        (lambda (input)\n",
    "            (cond ((eq? input 'how-many-calls?)\n",
    "                   count-call)\n",
    "                  ((eq? input 'reset-count)\n",
    "                   (begin (set! count-call 0)\n",
    "                          count-call))\n",
    "                  (else (begin (set! count-call (+ 1 count-call))\n",
    "                               (f input)))))))\n",
    "\n",
    "(define s (make-monitored sqrt))\n",
    "\n",
    ";other solution\n",
    "(define (make-monitored f)\n",
    "  (let ((times 0))\n",
    "    (lambda (m) \n",
    "      (cond ((eq? m 'how-many-calls?) times)\n",
    "            ((eq? m 'reset-acount) (set! times 0))\n",
    "            (else (begin (set! times (+ 1 times)) \n",
    "                         (f m)))))))\n",
    "\n",
    "(define s (make-monitored sqrt))\n",
    "(s 100)\n",
    "(s 400)\n",
    "(s 900)\n",
    "(s 3000)\n",
    "\n",
    "(s 'how-many-calls?)\n",
    "(s 'how-many-calls?)\n",
    "\n",
    ";;=====================\n",
    "ex3.3\n",
    " (define (make-account balance password_server)\n",
    "       (define (withdraw amount)\n",
    "         (if (>= balance amount)\n",
    "             (begin (set! balance (- balance amount))\n",
    "                    balance)\n",
    "             \"Insufficient funds\"))\n",
    "       (define (deposit amount)\n",
    "         (set! balance (+ balance amount))\n",
    "         balance)\n",
    "\n",
    "\n",
    "   \n",
    "   (define (dispatch password m)\n",
    "     (if (eq? password password_server)\n",
    "         \n",
    "         (cond ((eq? m 'withdraw) withdraw)\n",
    "               ((eq? m 'deposit) deposit)\n",
    "               (else (error \"Unknown request -- MAKE-ACCOUNT\"\n",
    "                            m)))\n",
    "         (lambda (x) \"Incorrect password\")))\n",
    "       dispatch)\n",
    "\n",
    "(define acc (make-account 100 'public))\n",
    "((acc 'public1 'withdraw ) 40)\n",
    "((acc 'public 'deposit ) 40)\n",
    "\n",
    ";;=====================\n",
    ";;ex3.4  如果一个账户连续输入密码错误7次，调用call-the-cops过程\n",
    ";    (let ((max-try-times 7)\n",
    ";          (try-times 0))   使用这种赋值方式可以减少最外层的一个times_call参数，而将其封装在函数内\n",
    "\n",
    " (define (make-account balance password_server times_call)\n",
    "       (define (withdraw amount)\n",
    "         (if (>= balance amount)\n",
    "             (begin (set! balance (- balance amount))\n",
    "                    balance)\n",
    "             \"Insufficient funds\"))\n",
    "       (define (deposit amount)\n",
    "         (set! balance (+ balance amount))\n",
    "         balance)\n",
    "\n",
    "   (define (call-the-cops amount)\n",
    "      (display \"call-the-cops\"))\n",
    "   \n",
    "   (define (dispatch password m)\n",
    "     (if (eq? password password_server)\n",
    "        (begin (set! times_call 0)\n",
    "         (cond ((eq? m 'withdraw) withdraw)\n",
    "               ((eq? m 'deposit) deposit)\n",
    "               (else (error \"Unknown request -- MAKE-ACCOUNT\"\n",
    "                            m)))\n",
    "         )\n",
    "        (begin (set! times_call (+ 1 times_call))\n",
    "               (if (< 7 times_call)\n",
    "                   call-the-cops\n",
    "               (lambda (x) \"Incorrect password\"))))\n",
    "           )\n",
    "     dispatch)\n",
    "           \n",
    "(define acc (make-account 100 'public 0))\n",
    "\n",
    "((acc 'secret-password 'withdraw) 40)\n",
    "\n",
    ";;主要是因为 dispatch 要求我们必须返回一个接受单个参数的函数（否则解释器会报错）,因此lambda (x)带了一个不会用到的参数\n",
    ";; 也可以通过这种方式给局部变量赋值\n",
    ";    (let ((max-try-times 7)\n",
    ";          (try-times 0))\n"
   ]
  },
  {
   "cell_type": "markdown",
   "metadata": {
    "ein.tags": "worksheet-0",
    "slideshow": {
     "slide_type": "-"
    }
   },
   "source": [
    "## 这个是标题2 的文本描述"
   ]
  },
  {
   "cell_type": "code",
   "execution_count": 2,
   "metadata": {
    "autoscroll": false,
    "collapsed": false,
    "ein.tags": "worksheet-0",
    "slideshow": {
     "slide_type": "-"
    }
   },
   "outputs": [
    {
     "ename": "SyntaxError",
     "evalue": "invalid syntax (<ipython-input-2-39fbff8cb335>, line 1)",
     "output_type": "error",
     "traceback": [
      "\u001b[1;36m  File \u001b[1;32m\"<ipython-input-2-39fbff8cb335>\"\u001b[1;36m, line \u001b[1;32m1\u001b[0m\n\u001b[1;33m    3.1.2(\"\")\u001b[0m\n\u001b[1;37m        ^\u001b[0m\n\u001b[1;31mSyntaxError\u001b[0m\u001b[1;31m:\u001b[0m invalid syntax\n"
     ]
    }
   ],
   "source": [
    "; 3.1.2\n",
    "(define rand\n",
    "  (let ((x random-init))\n",
    "    (lambda ()\n",
    "      (set! x (rand-update x))\n",
    "      x)))\n",
    "\n",
    ";; scheme 的 random 函数的作用是，当传给它一个浮点数时，它产生的是浮点随机数，如果传给它一个整数，它产生的就是整数随机数\n",
    "\n",
    "(define (square x) (* x x))\n",
    "(define (average x y) (/ (+ x y) 2))\n",
    "(define (random-in-range low high)\n",
    "  (let ((ranger (- high low)))\n",
    "    (+ low (* (random) ranger))))\n",
    "\n",
    "(define (estimate-integral P x1 x2 y1 y2 trials)\n",
    "  (let ((experiment (P x1 x2 y1 y2))\n",
    "        (width (- x2 x1))\n",
    "        (len (- y2 y1)))\n",
    "       (let ((space (* width len)))\n",
    "            (* space (monte-carlo trials experiment)))))\n",
    "\n",
    "\n",
    "(define (round_test x1 x2 y1 y2)\n",
    "  (lambda () \n",
    "          (let ((x (random-in-range x1 x2)) \n",
    "                (y (random-in-range y1 y2)))\n",
    "              (<= (+ (square (- x 5)) (square (- y 7))) (square 3)))))\n",
    "\n",
    "(define (monte-carlo trials experiment)\n",
    "  (define (iter trials-remaining trials-passed)\n",
    "    (cond ((= trials-remaining 0)\n",
    "           (/ trials-passed trials))\n",
    "          ((experiment)\n",
    "           (iter (- trials-remaining 1) \n",
    "                 (+ trials-passed 1)))\n",
    "          (else\n",
    "           (iter (- trials-remaining 1) \n",
    "                 trials-passed))))\n",
    "  (iter trials 0))\n",
    "\n",
    "(/ (estimate-integral round_test 2.0 8 4 10 10000) 9)\n",
    "\n",
    "\n",
    "; Exercise 3.6: It is useful to be able to reset a random-number generator to produce a sequence starting from a given value. Design a new rand procedure that is called with an argument that is either the symbol generate or the symbol reset and behaves as follows: (rand 'generate) produces a new random number; ((rand 'reset) ?new-value?) resets the internal state variable to the designated ?new-value?. Thus, by resetting the state, one can generate repeatable sequences. These are very handy to have when testing and debugging programs that use random numbers.\n",
    "\n",
    "(define random-init\n",
    "  (random 100))\n",
    "(define (rand-update x)\n",
    "  (let ((a 27) (b 26) (m 127))\n",
    "    (modulo (+ (* a x) b) m)))\n",
    "\n",
    "(define rand\n",
    "  (let ((x random-init))\n",
    "    (lambda () (set! x (rand-update x)) x)))\n",
    "\n",
    "(define rand_test\n",
    "  (let ((random-init 100)) \n",
    "    (lambda (x)\n",
    "      (cond \n",
    "        ((eq? x 'reset) (lambda (y) (set! random-init y)))\n",
    "        ((eq? x 'generate) (lambda () \n",
    "                                   (set! random-init \n",
    "                                         (rand-update random-init)) \n",
    "                                   random-init))\n",
    "        (else (error \"unknow words\"))))))\n",
    "\n",
    "((rand_test 'generate))\n"
   ]
  },
  {
   "cell_type": "code",
   "execution_count": 0,
   "metadata": {
    "autoscroll": false,
    "collapsed": false,
    "ein.tags": "worksheet-0",
    "slideshow": {
     "slide_type": "-"
    }
   },
   "outputs": [],
   "source": []
  },
  {
   "cell_type": "code",
   "execution_count": 6,
   "metadata": {
    "autoscroll": false,
    "collapsed": false,
    "ein.tags": "worksheet-0",
    "slideshow": {
     "slide_type": "-"
    }
   },
   "outputs": [
    {
     "name": "stdout",
     "output_type": "stream",
     "text": [
      "Help on function pressure in module __main__:\n",
      "\n",
      "pressure(v, t, n)\n",
      "    I am Compute the pressure in pascals of an ideal gas.\n",
      "    Applies the ideal gas law: http://en.wikipedia.org/wiki/Ideal_gas_law\n",
      "    v -- volume of gas, in cubic meters\n",
      "    t -- absolute temperature in degrees kelvin\n",
      "    n -- particles of gas\n",
      "\n"
     ]
    }
   ],
   "source": [
    "from operator import add ,mul\n",
    "def square(x):\n",
    "    return mul(x,x)\n",
    "def sum_squares(x,y):\n",
    "    return add(square(x),square(y))\n",
    "sum_squares(5,12 )\n",
    "\n",
    "def pressure(v,t,n):\n",
    "    \"\"\"I am Compute the pressure in pascals of an ideal gas.\n",
    "    Applies the ideal gas law: http://en.wikipedia.org/wiki/Ideal_gas_law\n",
    "    v -- volume of gas, in cubic meters\n",
    "    t -- absolute temperature in degrees kelvin\n",
    "    n -- particles of gas\"\"\"\n",
    "    k = 1.38e-23 # Boltzmann's constant\n",
    "    return n * k * t / v\n",
    "pressure (1,2,3)\n",
    "pressure(4,5,6)\n",
    "help(pressure)"
   ]
  },
  {
   "cell_type": "code",
   "execution_count": 20,
   "metadata": {
    "autoscroll": false,
    "collapsed": false,
    "ein.tags": "worksheet-0",
    "slideshow": {
     "slide_type": "-"
    }
   },
   "outputs": [
    {
     "data": {
      "text/plain": [
       "484"
      ]
     },
     "execution_count": 20,
     "metadata": {},
     "output_type": "execute_result"
    }
   ],
   "source": [
    "k_b=1.38e-23\n",
    "def square(x):\n",
    "    return mul(x,x)  # this call doesn't return a value\n",
    "square(22)\n"
   ]
  },
  {
   "cell_type": "code",
   "execution_count": 21,
   "metadata": {
    "autoscroll": false,
    "collapsed": false,
    "ein.tags": "worksheet-0",
    "slideshow": {
     "slide_type": "-"
    }
   },
   "outputs": [
    {
     "data": {
      "text/plain": [
       "25.0"
      ]
     },
     "execution_count": 21,
     "metadata": {},
     "output_type": "execute_result"
    }
   ],
   "source": [
    "def percent_difference(x, y):\n",
    "    difference = abs(x-y)\n",
    "    return 100 * difference / x\n",
    "percent_difference(40,50)"
   ]
  },
  {
   "cell_type": "code",
   "execution_count": 23,
   "metadata": {
    "autoscroll": false,
    "collapsed": false,
    "ein.tags": "worksheet-0",
    "slideshow": {
     "slide_type": "-"
    }
   },
   "outputs": [
    {
     "data": {
      "text/plain": [
       "100"
      ]
     },
     "execution_count": 23,
     "metadata": {},
     "output_type": "execute_result"
    }
   ],
   "source": [
    "def absolute_value(x):\n",
    "    \"\"\"Compute abs(x).\"\"\"\n",
    "    if x > 0:\n",
    "        return x\n",
    "    elif x == 0:\n",
    "        return 0\n",
    "    else:\n",
    "        return -x\n",
    "absolute_value(-100)    "
   ]
  },
  {
   "cell_type": "code",
   "execution_count": 24,
   "metadata": {
    "autoscroll": false,
    "collapsed": false,
    "ein.tags": "worksheet-0",
    "slideshow": {
     "slide_type": "-"
    }
   },
   "outputs": [
    {
     "data": {
      "text/plain": [
       "13"
      ]
     },
     "execution_count": 24,
     "metadata": {},
     "output_type": "execute_result"
    }
   ],
   "source": [
    "\n",
    "def fib(n):\n",
    "    \"\"\"compute the nth fibonacci number\"\"\"\n",
    "    pred, curr =0, 1\n",
    "    k =2\n",
    "    while k<n:\n",
    "        pred, curr = curr, pred + curr\n",
    "        k = k + 1\n",
    "    return curr    \n",
    "\n",
    "fib(8)        "
   ]
  },
  {
   "cell_type": "code",
   "execution_count": 24,
   "metadata": {
    "autoscroll": false,
    "collapsed": false,
    "ein.tags": "worksheet-0",
    "slideshow": {
     "slide_type": "-"
    }
   },
   "outputs": [],
   "source": []
  },
  {
   "cell_type": "code",
   "execution_count": 28,
   "metadata": {
    "autoscroll": false,
    "collapsed": false,
    "ein.tags": "worksheet-0",
    "slideshow": {
     "slide_type": "-"
    }
   },
   "outputs": [],
   "source": [
    "#assert 语句用来验证预期，如果表达式求值为假，就显示表达式后面的一行文本\n",
    "#将简单的测试直接写到函数的文档字符串内。文档字符串的第一行应该包含单行的函数描述，后面是一个空行。参数和行为的详细描述可以跟随在后面。\n",
    "assert fib(8)== 13, 'the 8th fibonacci number should be 13'"
   ]
  },
  {
   "cell_type": "code",
   "execution_count": 29,
   "metadata": {
    "autoscroll": false,
    "collapsed": false,
    "ein.tags": "worksheet-0",
    "slideshow": {
     "slide_type": "-"
    }
   },
   "outputs": [],
   "source": [
    "def fib_test():\n",
    "    assert fib(2) == 1, 'the 2nd should be 1'\n",
    "    assert fib(3) == 1, 'the 3rd should be '\n",
    "    assert fib(50) == 777874209, 'error'"
   ]
  },
  {
   "cell_type": "code",
   "execution_count": 3,
   "metadata": {
    "autoscroll": false,
    "collapsed": false,
    "ein.tags": "worksheet-0",
    "slideshow": {
     "slide_type": "-"
    }
   },
   "outputs": [],
   "source": [
    "def sum_natural(n):\n",
    "    \"\"\"Return the sum of the first  n natural numbers\n",
    "\n",
    "    >>> sum_natural(10)\n",
    "    55\n",
    "    >>> sum_natural(100)\n",
    "    5050\n",
    "    \"\"\"\n",
    "    total, k = 0, 1\n",
    "    while k <= n:\n",
    "        total, k = total + k, k+1\n",
    "        return total\n",
    "    "
   ]
  },
  {
   "cell_type": "code",
   "execution_count": 35,
   "metadata": {
    "autoscroll": false,
    "collapsed": false,
    "ein.tags": "worksheet-0",
    "slideshow": {
     "slide_type": "-"
    }
   },
   "outputs": [
    {
     "name": "stdout",
     "output_type": "stream",
     "text": [
      "**********************************************************************\n",
      "File \"__main__\", line 4, in NoName\n",
      "Failed example:\n",
      "    sum_natural(10)\n",
      "Expected:\n",
      "    55\n",
      "Got:\n",
      "    1\n",
      "**********************************************************************\n",
      "File \"__main__\", line 6, in NoName\n",
      "Failed example:\n",
      "    sum_natural(100)\n",
      "Expected:\n",
      "    5050\n",
      "Got:\n",
      "    1\n"
     ]
    }
   ],
   "source": [
    "#可以使用 doctest 模块来验证交互\n",
    "from doctest import run_docstring_examples\n",
    "run_docstring_examples(sum_natural, globals())"
   ]
  },
  {
   "cell_type": "code",
   "execution_count": 9,
   "metadata": {
    "autoscroll": false,
    "collapsed": false,
    "ein.tags": "worksheet-0",
    "slideshow": {
     "slide_type": "-"
    }
   },
   "outputs": [
    {
     "data": {
      "text/plain": [
       "3.1415906535898936"
      ]
     },
     "execution_count": 9,
     "metadata": {},
     "output_type": "execute_result"
    }
   ],
   "source": [
    "def pi_sum(n):\n",
    "    total, k = 0, 1\n",
    "    while k <= n:\n",
    "        total, k = total + 8 / (k * (k + 2)), k + 4\n",
    "\n",
    "    return total\n",
    "    \n",
    "pi_sum(100)\n",
    "\n",
    "# 将具有相同模式的多个函数抽象出来\n",
    "def summation(n,term,next):\n",
    "    total, k = 0, 1\n",
    "    while k <= n:\n",
    "        total, k = total + term(k), next(k)\n",
    "    return total\n",
    "\n",
    "def cube(k):\n",
    "    return pow(k,3)\n",
    "def successor(k):\n",
    "    return k+1\n",
    "def sum_cubes(n):\n",
    "    return summation(n, cube, successor)\n",
    "sum_cubes(3)  #立方求和\n",
    "#整数求和\n",
    "def identity(k):\n",
    "    return k\n",
    "def sum_naturals(n):\n",
    "    return summation(n, identity, successor)\n",
    "sum_naturals(10)\n",
    "#pi求和\n",
    "def pi_term(k):\n",
    "    denominator = k * (k+2)\n",
    "    return 8 / denominator\n",
    "def pi_next(k):\n",
    "    return k + 4\n",
    "def pi_sum(n):\n",
    "    return summation(n, pi_term, pi_next)\n",
    "\n",
    "pi_sum(1e6)\n"
   ]
  },
  {
   "cell_type": "code",
   "execution_count": null,
   "metadata": {
    "autoscroll": false,
    "collapsed": false,
    "ein.tags": "worksheet-0",
    "slideshow": {
     "slide_type": "-"
    }
   },
   "outputs": [],
   "source": [
    "1.6.2 作为一般方法的函数\n",
    "\n"
   ]
  }
 ],
 "metadata": {
  "kernelspec": {
   "display_name": "tensorflow",
   "name": "tensorflow"
  },
  "language_info": {
   "codemirror_mode": {
    "name": "ipython",
    "version": 3
   },
   "file_extension": ".py",
   "mimetype": "text/x-python",
   "name": "python",
   "nbconvert_exporter": "python",
   "pygments_lexer": "ipython3",
   "version": "3.6.2"
  },
  "name": "SICP-test.ipynb",
  "toc": {
   "nav_menu": null,
   "number_sections": true,
   "sideBar": true,
   "skip_h1_title": false,
   "toc_cell": false,
   "toc_position": null,
   "toc_section_display": "block",
   "toc_window_display": true
  }
 },
 "nbformat": 4,
 "nbformat_minor": 2
}
